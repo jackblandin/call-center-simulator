{
 "cells": [
  {
   "cell_type": "markdown",
   "metadata": {
    "heading_collapsed": true
   },
   "source": [
    "# Notes"
   ]
  },
  {
   "cell_type": "markdown",
   "metadata": {
    "hidden": true
   },
   "source": [
    "`env.run()`\n",
    "\n",
    "* Repeatedly calls `env.step()` until the given criterion `until` is met.\n",
    "* If `until` is None, then the method will return when there are no more events to process.\n",
    "* If `until` is an `Event` class, the step() method will keep executing until the event has been triggered.\n",
    "* If `until` is a number, it will continue stepping until the environment's time reaches that number.\n",
    "\n",
    "`env.step()`\n",
    "\n",
    "* Processes the next event. This involves\n",
    "    * Popping the next event from the heap `env._queue`.\n",
    "    * Execute each of the event's callbacks.\n",
    "\n",
    "`Process(env, generator)`, AKA `env.process(generator)`\n",
    "* Processes an event yielding generator.\n",
    "* Initially the only event in `env._queue` is thie `Initialize()` event, which produces a `Process()`. The `Initialize().callbacks` are `[Process._resume].`\n",
    "* When the `Process._resume` is called, the Process gets the next event from the event yielding generator it was initailized with. If the next event produced by the generator has callbacks, then the the `Process._resume` is appended to the end of them, so that it will try and keep obtaining events from the process generator."
   ]
  },
  {
   "cell_type": "markdown",
   "metadata": {},
   "source": [
    "# Setup"
   ]
  },
  {
   "cell_type": "code",
   "execution_count": 1,
   "metadata": {
    "ExecuteTime": {
     "end_time": "2019-06-13T14:48:33.329271-05:00",
     "start_time": "2019-06-13T14:48:33.310735Z"
    }
   },
   "outputs": [],
   "source": [
    "import os.path\n",
    "import sys\n",
    "    \n",
    "import simpy\n",
    "\n",
    "\"\"\"\n",
    "Add parent directory to current path\n",
    "\"\"\"\n",
    "p = os.path.abspath('..')\n",
    "if p not in sys.path:\n",
    "    sys.path.insert(0,p)\n",
    "    \n",
    "from call_center_simulator import Lead, generate_lead, interval_lead_generator\n",
    "from call_center_simulator.model import NaiveLeadScoringModel, PerfectLeadScoringModel"
   ]
  },
  {
   "cell_type": "markdown",
   "metadata": {},
   "source": [
    "# Set parameters"
   ]
  },
  {
   "cell_type": "code",
   "execution_count": 2,
   "metadata": {
    "ExecuteTime": {
     "end_time": "2019-06-13T14:48:34.373356-05:00",
     "start_time": "2019-06-13T14:48:34.368580Z"
    }
   },
   "outputs": [],
   "source": [
    "RANDOM_SEED = 42\n",
    "\n",
    "LEAD_DIST_PARAMS = {\n",
    "    'min_patience': 5,\n",
    "    'max_patience': 15,\n",
    "    'min_ltv': 0,\n",
    "    'max_ltv': 1000,\n",
    "    'mean_talk_time': 10,\n",
    "}\n",
    "\n",
    "INTERVAL_PARAMS = {\n",
    "    'num_leads': 20,\n",
    "    'lead_creation_interval': 2.5,\n",
    "}"
   ]
  },
  {
   "cell_type": "markdown",
   "metadata": {},
   "source": [
    "# Run simulation using naive model"
   ]
  },
  {
   "cell_type": "code",
   "execution_count": 8,
   "metadata": {
    "ExecuteTime": {
     "end_time": "2019-06-13T14:49:25.775462-05:00",
     "start_time": "2019-06-13T14:49:25.750026Z"
    }
   },
   "outputs": [
    {
     "name": "stdout",
     "output_type": "stream",
     "text": [
      " 0.0000 Lead00: Hesre I am\n",
      " 0.0000 Lead00: Waited  0.000\n",
      " 2.5259 Lead00: Converted\n",
      " 2.5502 \tLead01: Hesre I am\n",
      " 2.5502 \tLead01: Waited  0.000\n",
      " 3.4597 \tLead01: Converted\n",
      " 5.8841 \t\tLead02: Hesre I am\n",
      " 5.8841 \t\tLead02: Waited  0.000\n",
      " 7.2542 \t\t\tLead03: Hesre I am\n",
      " 7.3215 \t\t\t\tLead04: Hesre I am\n",
      " 7.9440 \t\t\t\t\tLead05: Hesre I am\n",
      "12.0415 \t\t\t\t\t\tLead06: Hesre I am\n",
      "12.9233 \t\tLead02: Converted\n",
      "12.9233 \t\t\tLead03: Waited  5.669\n",
      "18.2141 \t\t\t\tLead04: HUNG UP after 10.893\n",
      "19.9203 \t\t\t\t\t\t\tLead07: Hesre I am\n",
      "19.9254 \t\t\t\t\tLead05: HUNG UP after 11.981\n",
      "20.4074 \t\t\t\t\t\tLead06: HUNG UP after  8.366\n",
      "20.7966 \t\t\tLead03: Converted\n",
      "20.7966 \t\t\t\t\t\t\tLead07: Waited  0.876\n",
      "24.6217 \t\t\t\t\t\t\t\tLead08: Hesre I am\n",
      "26.5426 \t\t\t\t\t\t\t\t\tLead09: Hesre I am\n",
      "30.9637 \t\t\t\t\t\t\t\t\t\tLead10: Hesre I am\n",
      "33.8800 \t\t\t\t\t\t\tLead07: Converted\n",
      "33.8800 \t\t\t\t\t\t\t\tLead08: Waited  9.258\n",
      "34.0120 \t\t\t\t\t\t\t\t\t\t\tLead11: Hesre I am\n",
      "34.2199 \t\t\t\t\t\t\t\t\t\t\t\tLead12: Hesre I am\n",
      "36.4220 \t\t\t\t\t\t\t\t\t\tLead10: HUNG UP after  5.458\n",
      "36.7443 \t\t\t\t\t\t\t\t\t\t\t\t\tLead13: Hesre I am\n",
      "37.5207 \t\t\t\t\t\t\t\t\t\t\t\t\t\tLead14: Hesre I am\n",
      "37.7278 \t\t\t\t\t\t\t\t\tLead09: HUNG UP after 11.185\n",
      "37.9900 \t\t\t\t\t\t\t\t\t\t\t\t\t\t\tLead15: Hesre I am\n",
      "41.3399 \t\t\t\t\t\t\t\t\t\t\tLead11: HUNG UP after  7.328\n",
      "41.9105 \t\t\t\t\t\t\t\tLead08: Converted\n",
      "41.9105 \t\t\t\t\t\t\t\t\t\t\t\tLead12: Waited  7.691\n",
      "44.2615 \t\t\t\t\t\t\t\t\t\t\t\tLead12: Converted\n",
      "44.2615 \t\t\t\t\t\t\t\t\t\t\t\t\tLead13: Waited  7.517\n",
      "49.3865 \t\t\t\t\t\t\t\t\t\t\t\t\t\t\t\tLead16: Hesre I am\n",
      "49.3900 \t\t\t\t\t\t\t\t\t\t\t\t\t\t\tLead15: HUNG UP after 11.400\n",
      "49.8120 \t\t\t\t\t\t\t\t\t\t\t\t\t\tLead14: HUNG UP after 12.291\n",
      "53.6553 \t\t\t\t\t\t\t\t\t\t\t\t\tLead13: Converted\n",
      "53.6553 \t\t\t\t\t\t\t\t\t\t\t\t\t\t\t\tLead16: Waited  4.269\n",
      "53.9816 \t\t\t\t\t\t\t\t\t\t\t\t\t\t\t\tLead16: Converted\n",
      "54.0129 \t\t\t\t\t\t\t\t\t\t\t\t\t\t\t\t\tLead17: Hesre I am\n",
      "54.0129 \t\t\t\t\t\t\t\t\t\t\t\t\t\t\t\t\tLead17: Waited  0.000\n",
      "54.9604 \t\t\t\t\t\t\t\t\t\t\t\t\t\t\t\t\t\tLead18: Hesre I am\n",
      "60.1865 \t\t\t\t\t\t\t\t\t\t\t\t\t\t\t\t\t\t\tLead19: Hesre I am\n",
      "63.1072 \t\t\t\t\t\t\t\t\t\t\t\t\t\t\t\t\t\tLead18: HUNG UP after  8.147\n",
      "69.7750 \t\t\t\t\t\t\t\t\t\t\t\t\t\t\t\t\t\t\tLead19: HUNG UP after  9.589\n",
      "82.6441 \t\t\t\t\t\t\t\t\t\t\t\t\t\t\t\t\tLead17: Converted\n",
      "\n",
      "\n",
      "Converted Leads: 10\n",
      "Missed Leads:    10\n",
      "Converted LTV: $4679.64\n",
      "Missed LTV:    $4073.70\n"
     ]
    }
   ],
   "source": [
    "\"\"\"\n",
    "Run simulation using naive lead scoring model\n",
    "\"\"\"\n",
    "import random\n",
    "\n",
    "\n",
    "random.seed(RANDOM_SEED)\n",
    "\n",
    "naive_results = {\n",
    "    'converted_leads': [],\n",
    "    'missed_leads': [],\n",
    "}\n",
    "\n",
    "# Create environment\n",
    "env = simpy.Environment()\n",
    "\n",
    "# Create resource\n",
    "agents = simpy.PriorityResource(env, capacity=1)\n",
    "\n",
    "# Create lead scoring model\n",
    "model = NaiveLeadScoringModel()\n",
    "\n",
    "# Create interval process generator\n",
    "intv_process_gen = interval_lead_generator(env, agents, model, naive_results,\n",
    "                                           INTERVAL_PARAMS, LEAD_DIST_PARAMS)\n",
    "\n",
    "# Schedule execution of processes\n",
    "env.process(intv_process_gen)\n",
    "\n",
    "# Run the simulation\n",
    "env.run()\n",
    "\n",
    "# Count total LTV accumulated\n",
    "converted_ltv = sum([l.ltv for l in naive_results['converted_leads']])\n",
    "missed_ltv = sum([l.ltv for l in naive_results['missed_leads']])\n",
    "\n",
    "print('\\n')\n",
    "print('Converted Leads: {}'.format(len(naive_results['converted_leads'])))\n",
    "print('Missed Leads:    {}'.format(len(naive_results['missed_leads'])))\n",
    "print('Converted LTV: ${:.2f}'.format(converted_ltv))\n",
    "print('Missed LTV:    ${:.2f}'.format(missed_ltv))"
   ]
  },
  {
   "cell_type": "markdown",
   "metadata": {},
   "source": [
    "# Run simulation using perfect model"
   ]
  },
  {
   "cell_type": "code",
   "execution_count": 9,
   "metadata": {
    "ExecuteTime": {
     "end_time": "2019-06-13T14:49:26.887931-05:00",
     "start_time": "2019-06-13T14:49:26.861796Z"
    }
   },
   "outputs": [
    {
     "name": "stdout",
     "output_type": "stream",
     "text": [
      " 0.0000 Lead00: Hesre I am\n",
      " 0.0000 Lead00: Waited  0.000\n",
      " 2.5259 Lead00: Converted\n",
      " 2.5502 \tLead01: Hesre I am\n",
      " 2.5502 \tLead01: Waited  0.000\n",
      " 3.4597 \tLead01: Converted\n",
      " 5.8841 \t\tLead02: Hesre I am\n",
      " 5.8841 \t\tLead02: Waited  0.000\n",
      " 7.2542 \t\t\tLead03: Hesre I am\n",
      " 7.3215 \t\t\t\tLead04: Hesre I am\n",
      " 7.9440 \t\t\t\t\tLead05: Hesre I am\n",
      "12.0415 \t\t\t\t\t\tLead06: Hesre I am\n",
      "12.9233 \t\tLead02: Converted\n",
      "12.9233 \t\t\t\tLead04: Waited  5.602\n",
      "12.9885 \t\t\t\tLead04: Converted\n",
      "12.9885 \t\t\tLead03: Waited  5.734\n",
      "19.9203 \t\t\t\t\t\t\tLead07: Hesre I am\n",
      "19.9254 \t\t\t\t\tLead05: HUNG UP after 11.981\n",
      "20.4074 \t\t\t\t\t\tLead06: HUNG UP after  8.366\n",
      "20.8618 \t\t\tLead03: Converted\n",
      "20.8618 \t\t\t\t\t\t\tLead07: Waited  0.942\n",
      "24.6217 \t\t\t\t\t\t\t\tLead08: Hesre I am\n",
      "26.5426 \t\t\t\t\t\t\t\t\tLead09: Hesre I am\n",
      "30.9637 \t\t\t\t\t\t\t\t\t\tLead10: Hesre I am\n",
      "33.9452 \t\t\t\t\t\t\tLead07: Converted\n",
      "33.9452 \t\t\t\t\t\t\t\t\tLead09: Waited  7.403\n",
      "34.0120 \t\t\t\t\t\t\t\t\t\t\tLead11: Hesre I am\n",
      "34.2199 \t\t\t\t\t\t\t\t\t\t\t\tLead12: Hesre I am\n",
      "36.4220 \t\t\t\t\t\t\t\t\t\tLead10: HUNG UP after  5.458\n",
      "36.7443 \t\t\t\t\t\t\t\t\t\t\t\t\tLead13: Hesre I am\n",
      "37.5207 \t\t\t\t\t\t\t\t\t\t\t\t\t\tLead14: Hesre I am\n",
      "37.9900 \t\t\t\t\t\t\t\t\t\t\t\t\t\t\tLead15: Hesre I am\n",
      "39.3528 \t\t\t\t\t\t\t\tLead08: HUNG UP after 14.731\n",
      "41.3399 \t\t\t\t\t\t\t\t\t\t\tLead11: HUNG UP after  7.328\n",
      "42.5573 \t\t\t\t\t\t\t\t\tLead09: Converted\n",
      "42.5573 \t\t\t\t\t\t\t\t\t\t\t\t\tLead13: Waited  5.813\n",
      "42.8682 \t\t\t\t\t\t\t\t\t\t\t\tLead12: HUNG UP after  8.648\n",
      "49.3865 \t\t\t\t\t\t\t\t\t\t\t\t\t\t\t\tLead16: Hesre I am\n",
      "49.3900 \t\t\t\t\t\t\t\t\t\t\t\t\t\t\tLead15: HUNG UP after 11.400\n",
      "49.8120 \t\t\t\t\t\t\t\t\t\t\t\t\t\tLead14: HUNG UP after 12.291\n",
      "51.9512 \t\t\t\t\t\t\t\t\t\t\t\t\tLead13: Converted\n",
      "51.9512 \t\t\t\t\t\t\t\t\t\t\t\t\t\t\t\tLead16: Waited  2.565\n",
      "52.2774 \t\t\t\t\t\t\t\t\t\t\t\t\t\t\t\tLead16: Converted\n",
      "54.0129 \t\t\t\t\t\t\t\t\t\t\t\t\t\t\t\t\tLead17: Hesre I am\n",
      "54.0129 \t\t\t\t\t\t\t\t\t\t\t\t\t\t\t\t\tLead17: Waited  0.000\n",
      "54.9604 \t\t\t\t\t\t\t\t\t\t\t\t\t\t\t\t\t\tLead18: Hesre I am\n",
      "60.1865 \t\t\t\t\t\t\t\t\t\t\t\t\t\t\t\t\t\t\tLead19: Hesre I am\n",
      "63.1072 \t\t\t\t\t\t\t\t\t\t\t\t\t\t\t\t\t\tLead18: HUNG UP after  8.147\n",
      "69.7750 \t\t\t\t\t\t\t\t\t\t\t\t\t\t\t\t\t\t\tLead19: HUNG UP after  9.589\n",
      "82.6441 \t\t\t\t\t\t\t\t\t\t\t\t\t\t\t\t\tLead17: Converted\n",
      "\n",
      "\n",
      "Converted Leads: 10\n",
      "Missed Leads:    10\n",
      "Converted LTV: $5602.06\n",
      "Missed LTV:    $3151.28\n"
     ]
    }
   ],
   "source": [
    "\"\"\"\n",
    "Run simulation using naive lead scoring model\n",
    "\"\"\"\n",
    "import random\n",
    "\n",
    "\n",
    "random.seed(RANDOM_SEED)\n",
    "\n",
    "perfect_results = {\n",
    "    'converted_leads': [],\n",
    "    'missed_leads': [],\n",
    "}\n",
    "\n",
    "# Create environment\n",
    "env = simpy.Environment()\n",
    "\n",
    "# Create resource\n",
    "agents = simpy.PriorityResource(env, capacity=1)\n",
    "\n",
    "# Create lead scoring model\n",
    "model = PerfectLeadScoringModel()\n",
    "\n",
    "# Create interval process generator\n",
    "intv_process_gen = interval_lead_generator(env, agents, model, perfect_results,\n",
    "                                           INTERVAL_PARAMS, LEAD_DIST_PARAMS)\n",
    "\n",
    "# Schedule execution of processes\n",
    "env.process(intv_process_gen)\n",
    "\n",
    "# Run the simulation\n",
    "env.run()\n",
    "\n",
    "# Count total LTV accumulated\n",
    "converted_ltv = sum([l.ltv for l in perfect_results['converted_leads']])\n",
    "missed_ltv = sum([l.ltv for l in perfect_results['missed_leads']])\n",
    "\n",
    "print('\\n')\n",
    "print('Converted Leads: {}'.format(len(perfect_results['converted_leads'])))\n",
    "print('Missed Leads:    {}'.format(len(perfect_results['missed_leads'])))\n",
    "print('Converted LTV: ${:.2f}'.format(converted_ltv))\n",
    "print('Missed LTV:    ${:.2f}'.format(missed_ltv))"
   ]
  },
  {
   "cell_type": "markdown",
   "metadata": {},
   "source": [
    "# Compare results"
   ]
  },
  {
   "cell_type": "code",
   "execution_count": 10,
   "metadata": {
    "ExecuteTime": {
     "end_time": "2019-06-13T14:49:27.978821-05:00",
     "start_time": "2019-06-13T14:49:27.958549Z"
    }
   },
   "outputs": [
    {
     "name": "stdout",
     "output_type": "stream",
     "text": [
      "\n",
      "LTVs converted by perfect model but not naive model:\n",
      "$892.18\n",
      "$861.71\n",
      "$809.43\n",
      "$807.13\n",
      "$649.88\n",
      "$648.04\n",
      "$275.03\n",
      "$229.05\n",
      "$218.64\n",
      "$210.98\n",
      "\n",
      "LTVs converted by naive model but not perfect model:\n",
      "$655.44\n",
      "$556.95\n",
      "$378.53\n",
      "$370.18\n",
      "$340.25\n",
      "$264.88\n",
      "$227.90\n",
      "$163.40\n",
      "$101.00\n",
      "$92.75\n",
      "\n",
      "LTVs missed by perfect model but not naive model:\n",
      "$378.53\n",
      "$370.18\n",
      "\n",
      "LTVs missed by naive model but not perfect model:\n",
      "$861.71\n",
      "$809.43\n"
     ]
    }
   ],
   "source": [
    "\"\"\"\n",
    "Determine which leads were converted by perfect model, but not by naive model.\n",
    "And vice versa.\n",
    "\"\"\"\n",
    "perfect_converted_ltvs = [l.ltv for l in perfect_results['converted_leads']]\n",
    "naive_converted_ltvs = [l.ltv for l in perfect_results['missed_leads']]\n",
    "\n",
    "print('\\nLTVs converted by perfect model but not naive model:')\n",
    "for ltv in sorted(perfect_converted_ltvs, reverse=True):\n",
    "    if ltv not in naive_converted_ltvs:\n",
    "        print('${:.2f}'.format(ltv))\n",
    "\n",
    "print('\\nLTVs converted by naive model but not perfect model:')\n",
    "for ltv in sorted(naive_converted_ltvs, reverse=True):\n",
    "    if ltv not in perfect_converted_ltvs:\n",
    "        print('${:.2f}'.format(ltv))\n",
    "        \n",
    "        \n",
    "\"\"\"\n",
    "Determine which leads were missed by perfect model, but not by naive model.\n",
    "And vice versa.\n",
    "\"\"\"\n",
    "perfect_missed_ltvs = [l.ltv for l in perfect_results['missed_leads']]\n",
    "naive_missed_ltvs = [l.ltv for l in naive_results['missed_leads']]\n",
    "\n",
    "print('\\nLTVs missed by perfect model but not naive model:')\n",
    "for ltv in sorted(perfect_missed_ltvs, reverse=True):\n",
    "    if ltv not in naive_missed_ltvs:\n",
    "        print('${:.2f}'.format(ltv))\\\n",
    "        \n",
    "print('\\nLTVs missed by naive model but not perfect model:')\n",
    "for ltv in sorted(naive_missed_ltvs, reverse=True):\n",
    "    if ltv not in perfect_missed_ltvs:\n",
    "        print('${:.2f}'.format(ltv))"
   ]
  },
  {
   "cell_type": "code",
   "execution_count": null,
   "metadata": {},
   "outputs": [],
   "source": []
  }
 ],
 "metadata": {
  "kernelspec": {
   "display_name": "conda (call-center-simulator)",
   "language": "python",
   "name": "call-center-simulator"
  },
  "language_info": {
   "codemirror_mode": {
    "name": "ipython",
    "version": 3
   },
   "file_extension": ".py",
   "mimetype": "text/x-python",
   "name": "python",
   "nbconvert_exporter": "python",
   "pygments_lexer": "ipython3",
   "version": "3.4.5"
  },
  "notify_time": "5",
  "toc": {
   "base_numbering": 1,
   "nav_menu": {},
   "number_sections": true,
   "sideBar": true,
   "skip_h1_title": false,
   "title_cell": "Table of Contents",
   "title_sidebar": "Contents",
   "toc_cell": false,
   "toc_position": {
    "height": "calc(100% - 180px)",
    "left": "10px",
    "top": "150px",
    "width": "288px"
   },
   "toc_section_display": true,
   "toc_window_display": true
  },
  "varInspector": {
   "cols": {
    "lenName": 16,
    "lenType": 16,
    "lenVar": 40
   },
   "kernels_config": {
    "python": {
     "delete_cmd_postfix": "",
     "delete_cmd_prefix": "del ",
     "library": "var_list.py",
     "varRefreshCmd": "print(var_dic_list())"
    },
    "r": {
     "delete_cmd_postfix": ") ",
     "delete_cmd_prefix": "rm(",
     "library": "var_list.r",
     "varRefreshCmd": "cat(var_dic_list()) "
    }
   },
   "types_to_exclude": [
    "module",
    "function",
    "builtin_function_or_method",
    "instance",
    "_Feature"
   ],
   "window_display": false
  }
 },
 "nbformat": 4,
 "nbformat_minor": 2
}
